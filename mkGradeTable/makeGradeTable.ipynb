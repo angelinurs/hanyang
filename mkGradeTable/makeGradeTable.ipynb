{
 "cells": [
  {
   "cell_type": "markdown",
   "source": [
    "### # 가상의 성적표.csv 만들기\n",
    "#### - 이름 리스트 만들기"
   ],
   "metadata": {}
  },
  {
   "cell_type": "code",
   "execution_count": 4,
   "source": [
    "# 아래의 사이트 에서 가장 흔한 보통 남자아이의 이름을 복사해옮\n",
    "# https://www.ef.com/wwen/english-resources/english-names/\n",
    "\n",
    "names = '''1\tOliver\tJake\tNoah\tJames\n",
    "2\tJack\tConnor\tLiam\tJohn\n",
    "3\tHarry\tCallum\tMason\tRobert\n",
    "4\tJacob\tJacob\tJacob\tMichael\n",
    "5\tCharlie\tKyle\tWilliam\tWilliam\n",
    "6\tThomas\tJoe\tEthan\tDavid\n",
    "7\tGeorge\tReece\tMichael\tRichard\n",
    "8\tOscar\tRhys\tAlexander\tJoseph\n",
    "9\tJames\tCharlie\tJames\tCharles\n",
    "10\tWilliam\tDamian\tDaniel\tThomas'''\n",
    "\n",
    "print(names)\n",
    "\n",
    "toList = names.replace('\\n', '\\t').split('\\t')\n",
    "\n",
    "for name in toList:\n",
    "    if name.isdigit():\n",
    "        toList.remove(name)\n",
    "\n",
    "toList = tuple(set(toList))\n",
    "\n",
    "print( toList, len( toList ) )"
   ],
   "outputs": [
    {
     "output_type": "stream",
     "name": "stdout",
     "text": [
      "1\tOliver\tJake\tNoah\tJames\n",
      "2\tJack\tConnor\tLiam\tJohn\n",
      "3\tHarry\tCallum\tMason\tRobert\n",
      "4\tJacob\tJacob\tJacob\tMichael\n",
      "5\tCharlie\tKyle\tWilliam\tWilliam\n",
      "6\tThomas\tJoe\tEthan\tDavid\n",
      "7\tGeorge\tReece\tMichael\tRichard\n",
      "8\tOscar\tRhys\tAlexander\tJoseph\n",
      "9\tJames\tCharlie\tJames\tCharles\n",
      "10\tWilliam\tDamian\tDaniel\tThomas\n",
      "('John', 'Alexander', 'Oliver', 'Daniel', 'William', 'Michael', 'Reece', 'Kyle', 'Richard', 'James', 'Jake', 'Oscar', 'David', 'Connor', 'Thomas', 'Ethan', 'Jacob', 'Jack', 'George', 'Damian', 'Liam', 'Robert', 'Charlie', 'Joe', 'Callum', 'Mason', 'Charles', 'Harry', 'Noah', 'Joseph', 'Rhys') 31\n"
     ]
    }
   ],
   "metadata": {}
  },
  {
   "cell_type": "markdown",
   "source": [
    "#### - 랜덤으로 성적표 리스트 만들기"
   ],
   "metadata": {}
  },
  {
   "cell_type": "code",
   "execution_count": 5,
   "source": [
    "# 위에서 구한 names tuple 를 이용한 무작위 성적 List 만들기 \n",
    "import random\n",
    "\n",
    "table = []\n",
    "line = []\n",
    "studentsCount = 20\n",
    "for count, name in zip(range( studentsCount ), toList):\n",
    "    line = []\n",
    "    line.append( name )\n",
    "    for grade in range(5):\n",
    "        line.append(str(random.randint( 70, 101 )))\n",
    "    table.append( line )\n",
    "\n",
    "print( table )"
   ],
   "outputs": [
    {
     "output_type": "stream",
     "name": "stdout",
     "text": [
      "[['John', '73', '101', '100', '85', '91'], ['Alexander', '86', '73', '73', '98', '79'], ['Oliver', '100', '72', '81', '84', '79'], ['Daniel', '91', '95', '76', '99', '78'], ['William', '83', '87', '70', '77', '81'], ['Michael', '71', '90', '89', '93', '94'], ['Reece', '83', '81', '92', '81', '93'], ['Kyle', '97', '78', '99', '70', '86'], ['Richard', '101', '93', '101', '74', '94'], ['James', '72', '88', '97', '86', '78'], ['Jake', '101', '79', '94', '97', '86'], ['Oscar', '93', '88', '80', '92', '73'], ['David', '74', '78', '96', '91', '86'], ['Connor', '93', '92', '100', '101', '100'], ['Thomas', '80', '100', '86', '70', '86'], ['Ethan', '84', '99', '90', '87', '83'], ['Jacob', '82', '89', '76', '71', '76'], ['Jack', '78', '84', '100', '88', '76'], ['George', '101', '88', '91', '86', '75'], ['Damian', '99', '72', '91', '87', '79']] 20\n"
     ]
    }
   ],
   "metadata": {}
  },
  {
   "cell_type": "markdown",
   "source": [
    "#### - 성적표 csv 파일 형식의 데이터로 만들기"
   ],
   "metadata": {}
  },
  {
   "cell_type": "code",
   "execution_count": 7,
   "source": [
    "csvFormat = 'name,math,science,korean,english,history\\n'\n",
    "for line in table:\n",
    "    csvFormat += (','.join(line) + '\\n')\n",
    "\n",
    "print( csvFormat )"
   ],
   "outputs": [
    {
     "output_type": "stream",
     "name": "stdout",
     "text": [
      "name,math,science,korean,english,history\n",
      "John,73,101,100,85,91\n",
      "Alexander,86,73,73,98,79\n",
      "Oliver,100,72,81,84,79\n",
      "Daniel,91,95,76,99,78\n",
      "William,83,87,70,77,81\n",
      "Michael,71,90,89,93,94\n",
      "Reece,83,81,92,81,93\n",
      "Kyle,97,78,99,70,86\n",
      "Richard,101,93,101,74,94\n",
      "James,72,88,97,86,78\n",
      "Jake,101,79,94,97,86\n",
      "Oscar,93,88,80,92,73\n",
      "David,74,78,96,91,86\n",
      "Connor,93,92,100,101,100\n",
      "Thomas,80,100,86,70,86\n",
      "Ethan,84,99,90,87,83\n",
      "Jacob,82,89,76,71,76\n",
      "Jack,78,84,100,88,76\n",
      "George,101,88,91,86,75\n",
      "Damian,99,72,91,87,79\n",
      "\n"
     ]
    }
   ],
   "metadata": {}
  },
  {
   "cell_type": "markdown",
   "source": [
    "#### - 만든 데이터 csv 파일로 저장하고 확인해보기"
   ],
   "metadata": {}
  },
  {
   "cell_type": "code",
   "execution_count": 8,
   "source": [
    "f = open( 'gradeTable.csv', 'w')\n",
    "f.write(csvFormat)\n",
    "f.close()\n",
    "\n",
    "f = open( 'gradeTable.csv', 'r' )\n",
    "print( f.read() )\n",
    "f.close()"
   ],
   "outputs": [
    {
     "output_type": "stream",
     "name": "stdout",
     "text": [
      "name,math,science,korean,english,history\n",
      "John,73,101,100,85,91\n",
      "Alexander,86,73,73,98,79\n",
      "Oliver,100,72,81,84,79\n",
      "Daniel,91,95,76,99,78\n",
      "William,83,87,70,77,81\n",
      "Michael,71,90,89,93,94\n",
      "Reece,83,81,92,81,93\n",
      "Kyle,97,78,99,70,86\n",
      "Richard,101,93,101,74,94\n",
      "James,72,88,97,86,78\n",
      "Jake,101,79,94,97,86\n",
      "Oscar,93,88,80,92,73\n",
      "David,74,78,96,91,86\n",
      "Connor,93,92,100,101,100\n",
      "Thomas,80,100,86,70,86\n",
      "Ethan,84,99,90,87,83\n",
      "Jacob,82,89,76,71,76\n",
      "Jack,78,84,100,88,76\n",
      "George,101,88,91,86,75\n",
      "Damian,99,72,91,87,79\n",
      "\n"
     ]
    }
   ],
   "metadata": {}
  }
 ],
 "metadata": {
  "orig_nbformat": 4,
  "language_info": {
   "name": "python",
   "version": "3.9.5",
   "mimetype": "text/x-python",
   "codemirror_mode": {
    "name": "ipython",
    "version": 3
   },
   "pygments_lexer": "ipython3",
   "nbconvert_exporter": "python",
   "file_extension": ".py"
  },
  "kernelspec": {
   "name": "python3",
   "display_name": "Python 3.9.5 64-bit ('py3.9.5': pyenv)"
  },
  "interpreter": {
   "hash": "9d79e0bc87f519fa23b9205070bface202a3ad5a816a7eec4273c296dfb3e705"
  }
 },
 "nbformat": 4,
 "nbformat_minor": 2
}